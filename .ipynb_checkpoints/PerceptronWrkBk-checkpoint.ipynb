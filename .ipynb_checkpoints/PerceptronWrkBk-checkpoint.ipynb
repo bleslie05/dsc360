{
 "cells": [
  {
   "cell_type": "code",
   "execution_count": 1,
   "id": "51af376b-727d-48a9-ade8-8b5dd2d7d60c",
   "metadata": {},
   "outputs": [],
   "source": [
    "#We set the x points\n",
    "#We also set the weights & the bias\n",
    "# Can utilize lists to speed up factoring & equation\n",
    "# In this cell, we're just setting the variables to their values\n",
    "x0, x1, x2 = 1., 2., 3.\n",
    "bias, w1, w2 = 0.1, 0.3, 0.5\n",
    "\n",
    "x = [x0, x1, x2]\n",
    "w = [bias, w1, w2]"
   ]
  },
  {
   "cell_type": "code",
   "execution_count": 2,
   "id": "fc49489f-d07f-4233-b12d-fe7ce7672f3a",
   "metadata": {},
   "outputs": [
    {
     "name": "stdout",
     "output_type": "stream",
     "text": [
      "2.2\n"
     ]
    }
   ],
   "source": [
    "#We use a for loop to execute the repeated formula (perceptron) \n",
    "#set z = 0 to make the equation (like linear algebra)\n",
    "\n",
    "z = 0\n",
    "for i in range(len(x)):\n",
    "    z += x[i] * w[i]\n",
    "\n",
    "print(z)"
   ]
  },
  {
   "cell_type": "code",
   "execution_count": 3,
   "id": "dae0d544-7fe7-40ed-828a-94e989d9d96e",
   "metadata": {},
   "outputs": [
    {
     "name": "stdout",
     "output_type": "stream",
     "text": [
      "2.2\n"
     ]
    }
   ],
   "source": [
    "z = sum(x_i*w_i for x_i, w_i in zip(x, w))\n",
    "print(z)"
   ]
  },
  {
   "cell_type": "code",
   "execution_count": 10,
   "id": "fc70b4d4-1de9-4a31-b09c-d82a8b91fb34",
   "metadata": {},
   "outputs": [
    {
     "name": "stdout",
     "output_type": "stream",
     "text": [
      "Collecting numpy\n",
      "  Downloading numpy-2.3.2-cp313-cp313-macosx_14_0_arm64.whl.metadata (62 kB)\n",
      "Downloading numpy-2.3.2-cp313-cp313-macosx_14_0_arm64.whl (5.1 MB)\n",
      "\u001b[2K   \u001b[90m━━━━━━━━━━━━━━━━━━━━━━━━━━━━━━━━━━━━━━━━\u001b[0m \u001b[32m5.1/5.1 MB\u001b[0m \u001b[31m12.7 MB/s\u001b[0m  \u001b[33m0:00:00\u001b[0meta \u001b[36m0:00:01\u001b[0m\n",
      "\u001b[?25hInstalling collected packages: numpy\n",
      "Successfully installed numpy-2.3.2\n",
      "Note: you may need to restart the kernel to use updated packages.\n"
     ]
    }
   ],
   "source": [
    "# Remember to use % when wanting to install python packages, will save allot of time\n",
    "%pip install numpy\n"
   ]
  },
  {
   "cell_type": "code",
   "execution_count": 11,
   "id": "fd0273db-0cbc-49d9-bb14-f1a812aede03",
   "metadata": {},
   "outputs": [
    {
     "name": "stdout",
     "output_type": "stream",
     "text": [
      "2.2\n",
      "2.2\n"
     ]
    }
   ],
   "source": [
    "# Vectorized implementation using numpy.\n",
    "\n",
    "import numpy as np\n",
    "x_vec, w_vec = np.array(x), np.array(w)\n",
    "# This step on top converts the lists to numpy arrays, which are easier for calculation. \n",
    "z = (x_vec.transpose()).dot(w_vec)\n",
    "\n",
    "#This step flips rows & columns, transforming it into a 2 by 4 matrix. It also finds the dot-product of tyhe weighted sums, \n",
    "# but in a different shape\n",
    "print(z)\n",
    "\n",
    "z = x_vec.dot(w_vec)\n",
    "#This is the clean way: directly multiply the 4×2 matrix with the 2×1 vector.\n",
    "#Output: a 4×1 vector (one score per input row).\n",
    "print(z)"
   ]
  },
  {
   "cell_type": "code",
   "execution_count": null,
   "id": "0f1bef96-9127-4015-943f-c6fe966cb4c4",
   "metadata": {},
   "outputs": [],
   "source": []
  }
 ],
 "metadata": {
  "kernelspec": {
   "display_name": "Python 3 (ipykernel)",
   "language": "python",
   "name": "python3"
  },
  "language_info": {
   "codemirror_mode": {
    "name": "ipython",
    "version": 3
   },
   "file_extension": ".py",
   "mimetype": "text/x-python",
   "name": "python",
   "nbconvert_exporter": "python",
   "pygments_lexer": "ipython3",
   "version": "3.13.7"
  }
 },
 "nbformat": 4,
 "nbformat_minor": 5
}
