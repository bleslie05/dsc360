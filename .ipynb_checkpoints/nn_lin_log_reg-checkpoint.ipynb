{
 "cells": [
  {
   "cell_type": "markdown",
   "metadata": {},
   "source": [
    "# Neural networks: Single neuron linear and logistic regression\n",
    "\n",
    "This uses `bikes` data \n"
   ]
  },
  {
   "cell_type": "code",
   "execution_count": null,
   "metadata": {
    "id": "py4TQ5phMLwL"
   },
   "outputs": [],
   "source": [
    "import pandas as pd\n",
    "import numpy as np"
   ]
  },
  {
   "cell_type": "code",
   "execution_count": null,
   "metadata": {
    "id": "7AbwJWSz9z0X"
   },
   "outputs": [],
   "source": [
    "from tensorflow import keras\n",
    "from keras import layers"
   ]
  },
  {
   "cell_type": "code",
   "execution_count": null,
   "metadata": {
    "id": "fuVOylTVKOp7"
   },
   "outputs": [],
   "source": [
    "\n",
    "from sklearn.preprocessing import StandardScaler\n",
    "from sklearn.model_selection import train_test_split\n"
   ]
  },
  {
   "cell_type": "code",
   "execution_count": null,
   "metadata": {},
   "outputs": [],
   "source": [
    "bikes = pd.read_csv('../../data/bikes.csv') ### your path will depend on where you put the file.\n",
    "\n",
    "predictors = ['temp_feel', 'humidity', 'windspeed']\n",
    "\n",
    "X = bikes[predictors]\n",
    "y = bikes['rides']\n",
    "\n",
    "scl = StandardScaler()\n",
    "\n",
    "X_train, X_test, y_train, y_test = train_test_split(X, y, test_size= 0.2)\n",
    "\n",
    "X_train = scl.fit_transform(X_train)\n",
    "X_test = scl.transform(X_test)\n",
    "\n"
   ]
  },
  {
   "cell_type": "markdown",
   "metadata": {
    "id": "QSSW1MC6FhIF"
   },
   "source": [
    "#### Using Keras Sequential API.\n",
    "sklearn mlp should be similar"
   ]
  },
  {
   "cell_type": "code",
   "execution_count": null,
   "metadata": {
    "id": "UK_QoDJ-ACqQ"
   },
   "outputs": [],
   "source": [
    "\n",
    "kmlp = keras.models.Sequential(\n",
    "    [\n",
    "        layers.Dense(1, activation= None, input_shape=(X_train.shape[1],))\n",
    "    ]\n",
    ")\n",
    "\n",
    "kmlp.compile(\n",
    "    optimizer='sgd',\n",
    "    loss=  'mse',\n",
    "    metrics=['RootMeanSquaredError']\n",
    ")"
   ]
  },
  {
   "cell_type": "code",
   "execution_count": null,
   "metadata": {
    "id": "M13giQk93XWM"
   },
   "outputs": [],
   "source": [
    "kmlp.summary()"
   ]
  },
  {
   "cell_type": "code",
   "execution_count": null,
   "metadata": {
    "colab": {
     "base_uri": "https://localhost:8080/"
    },
    "id": "bDRqIjCR2vXs",
    "outputId": "6a1d7f63-2f47-42c4-e2e6-3a9b7fab9f41"
   },
   "outputs": [],
   "source": [
    "kmlp.fit(X_train, y_train, \n",
    "         epochs = 50, \n",
    "         validation_data=(X_test, y_test)\n",
    "         )"
   ]
  },
  {
   "cell_type": "markdown",
   "metadata": {},
   "source": [
    "#### Coefficients, in order, and the bias."
   ]
  },
  {
   "cell_type": "code",
   "execution_count": null,
   "metadata": {},
   "outputs": [],
   "source": [
    "kmlp.evaluate(X_test, y_test, verbose=1)"
   ]
  },
  {
   "cell_type": "code",
   "execution_count": null,
   "metadata": {},
   "outputs": [],
   "source": [
    "\n",
    "kmlp.layers[0].get_weights()"
   ]
  },
  {
   "cell_type": "markdown",
   "metadata": {},
   "source": [
    "#### rmse and R^2"
   ]
  },
  {
   "cell_type": "code",
   "execution_count": null,
   "metadata": {},
   "outputs": [],
   "source": [
    "from sklearn.metrics import mean_squared_error, r2_score\n",
    "\n",
    "results = kmlp.evaluate(X_test, y_test)\n",
    "\n",
    "rmse = results[1]\n",
    "r2 = r2_score(y_test, kmlp.predict(X_test))\n",
    "\n",
    "\n",
    "print(\"RMSE:\", rmse)\n",
    "print(\"Rsq:\", r2)\n"
   ]
  },
  {
   "cell_type": "markdown",
   "metadata": {},
   "source": [
    "#### Now sklearn\n",
    "\n",
    "We get identical or very nearly identical"
   ]
  },
  {
   "cell_type": "code",
   "execution_count": null,
   "metadata": {},
   "outputs": [],
   "source": [
    "from sklearn.linear_model import LinearRegression\n",
    "lin_reg = LinearRegression()\n",
    "lin_reg.fit(X_train, y_train)\n",
    "\n",
    "rmse = np.sqrt(mean_squared_error(y_test, lin_reg.predict(X_test)))\n",
    "r2 = lin_reg.score(X_test, y_test)\n",
    "\n",
    "print(\"RMSE = \", rmse)\n",
    "print(\"Rsq = \", r2)\n"
   ]
  },
  {
   "cell_type": "code",
   "execution_count": null,
   "metadata": {},
   "outputs": [],
   "source": [
    "print(\"coeffs:\", lin_reg.coef_)\n",
    "print(\"intercept:\", lin_reg.intercept_)\n"
   ]
  },
  {
   "cell_type": "markdown",
   "metadata": {},
   "source": [
    "## Logistic Regression\n",
    "\n",
    "We use the `cancer` data set"
   ]
  },
  {
   "cell_type": "code",
   "execution_count": null,
   "metadata": {},
   "outputs": [],
   "source": [
    "from sklearn.datasets import load_breast_cancer\n",
    "\n",
    "cancer = load_breast_cancer()"
   ]
  },
  {
   "cell_type": "code",
   "execution_count": null,
   "metadata": {},
   "outputs": [],
   "source": [
    "cancer.keys()"
   ]
  },
  {
   "cell_type": "code",
   "execution_count": null,
   "metadata": {},
   "outputs": [],
   "source": [
    "X = cancer.data\n",
    "y = cancer.target\n",
    "scl = StandardScaler()\n",
    "X_train, X_test, y_train, y_test = train_test_split(X, y, test_size=0.2, random_state=42)\n",
    "X_train = scl.fit_transform(X_train)\n",
    "X_test = scl.transform(X_test)\n"
   ]
  },
  {
   "cell_type": "markdown",
   "metadata": {},
   "source": [
    "#### Using Keras"
   ]
  },
  {
   "cell_type": "code",
   "execution_count": null,
   "metadata": {},
   "outputs": [],
   "source": [
    "kmlp = keras.models.Sequential(\n",
    "    [\n",
    "        layers.Dense(1, activation= 'sigmoid', input_shape=(X_train.shape[1],))\n",
    "    ]\n",
    ")\n",
    "\n",
    "kmlp.compile(\n",
    "    optimizer='sgd',\n",
    "    loss=  'binary_crossentropy',\n",
    "    metrics=['accuracy']\n",
    ")"
   ]
  },
  {
   "cell_type": "code",
   "execution_count": null,
   "metadata": {},
   "outputs": [],
   "source": [
    "kmlp.fit(X_train, y_train, \n",
    "         epochs = 50, \n",
    "         validation_data=(X_test, y_test)\n",
    "         )\n"
   ]
  },
  {
   "cell_type": "code",
   "execution_count": null,
   "metadata": {},
   "outputs": [],
   "source": [
    "kmlp.evaluate(X_test, y_test, verbose=0)"
   ]
  },
  {
   "cell_type": "markdown",
   "metadata": {},
   "source": [
    "#### Coefficients"
   ]
  },
  {
   "cell_type": "code",
   "execution_count": null,
   "metadata": {},
   "outputs": [],
   "source": [
    "for predictor, coeff in list(zip(X.columns, kmlp.layers[0].get_weights()[0])):\n",
    "    print(f\"{predictor}: {coeff}\")"
   ]
  },
  {
   "cell_type": "markdown",
   "metadata": {},
   "source": [
    "#### Weights"
   ]
  },
  {
   "cell_type": "code",
   "execution_count": null,
   "metadata": {},
   "outputs": [],
   "source": [
    "kmlp.layers[0].get_weights()[0]"
   ]
  },
  {
   "cell_type": "markdown",
   "metadata": {},
   "source": [
    "#### Weights"
   ]
  },
  {
   "cell_type": "code",
   "execution_count": null,
   "metadata": {},
   "outputs": [],
   "source": [
    "kmlp.layers[0].get_weights()[1]"
   ]
  }
 ],
 "metadata": {
  "accelerator": "GPU",
  "colab": {
   "collapsed_sections": [
    "m5mFGijOFaIo"
   ],
   "gpuType": "T4",
   "provenance": []
  },
  "kernelspec": {
   "display_name": "Python 3 (ipykernel)",
   "language": "python",
   "name": "python3"
  },
  "language_info": {
   "codemirror_mode": {
    "name": "ipython",
    "version": 3
   },
   "file_extension": ".py",
   "mimetype": "text/x-python",
   "name": "python",
   "nbconvert_exporter": "python",
   "pygments_lexer": "ipython3",
   "version": "3.13.7"
  }
 },
 "nbformat": 4,
 "nbformat_minor": 4
}
