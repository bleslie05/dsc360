{
 "cells": [
  {
   "cell_type": "code",
   "execution_count": 24,
   "id": "0a5e238e-64a3-4ea7-bf14-1b41fae52560",
   "metadata": {},
   "outputs": [],
   "source": [
    "# In assignment one, we are introduced to Object-Oriented Programming(OOP)\n",
    "# This is crucial because TensorFlow and PyTorch are entirely object-based. \n",
    "# Every Model, Layer, and optimizer is a class.\n",
    "# I'll learn how to define my own class, and the difference between Attributes(data)\n",
    "# and methods (functions)\n",
    "#I will also leaen the meaning of self and how to create, modify, and use these objects\n",
    "# %pip install numpy\n",
    "#%pip install matplotlib\n",
    "\n",
    "import numpy as np\n",
    "import matplotlib.pyplot as plt\n"
   ]
  },
  {
   "cell_type": "code",
   "execution_count": 25,
   "id": "a2ddc3e9-aeb7-4a01-acde-a6f7af62c294",
   "metadata": {},
   "outputs": [],
   "source": [
    "# Here is an example of that logic:\n",
    "\n",
    "class Student:\n",
    "    def __init__(self, name, major):\n",
    "        self.name = name\n",
    "        self.major = major\n",
    "\n",
    "    def greet(self):\n",
    "        return f\"Hello, I'm {self.name} and I'm styding {self.major}.\"\n",
    "        \n",
    "# the \"__innit__\" is the constructor that runs automatically when you create a new object\n",
    "\n",
    "# the \"self\" represents this instance of the class (reference to the current object)\n",
    "\n",
    "# Student(\"Brandon\", \"Data Science\") creates a unique object with its own data. \n",
    "\n",
    "# Methods = class-specific functons\n",
    "\n",
    "# Attributes = data stored in each instance\n",
    "        "
   ]
  },
  {
   "cell_type": "code",
   "execution_count": 26,
   "id": "7a647ea0-7d07-4334-ad79-077a47851095",
   "metadata": {},
   "outputs": [],
   "source": [
    "\n",
    "# In this example, we'll be creating a car class with attributes\n",
    "\n",
    "#It is important to remember that the \"self,\" and the \"__innit__\" function aren't their \n",
    "# own pre-loaded functions from Python, these are just placeholders to represent a purpose\n",
    "\n",
    "class Car:\n",
    "    def __init__(self, make, model, year):\n",
    "        self.make = make\n",
    "        self.model = model\n",
    "        self.year = year\n",
    "\n",
    "    def describe(self):\n",
    "        return f\"{self.year} {self.make} {self.model}\"\n",
    "\n",
    "    def start_engine(self):\n",
    "        return f\"The {self.model}'s engine is now running.\"\n"
   ]
  },
  {
   "cell_type": "code",
   "execution_count": 27,
   "id": "83afe072-64ca-4cd8-a27a-35044ad7260f",
   "metadata": {},
   "outputs": [],
   "source": [
    "# In this block, we'll create a subclass (electric car) to describe\n",
    "\n",
    "class ElectricCar(Car):  # inherits from Car\n",
    "    def __init__(self, make, model, year, battery_size):\n",
    "        super().__init__(make, model, year)  # correctly call parent constructor\n",
    "        self.battery_size = battery_size     # add a unique attribute\n",
    "\n",
    "    def describe_battery(self):\n",
    "        return f\"This car has a {self.battery_size}-kWh battery.\"\n",
    "\n",
    "    def start_engine(self):  # override parent method\n",
    "        return f\"The {self.model} starts silently — it's electric!\"\n",
    "      "
   ]
  },
  {
   "cell_type": "code",
   "execution_count": 28,
   "id": "dced7d78-2cc5-4c5d-944d-2b731653a292",
   "metadata": {},
   "outputs": [
    {
     "name": "stdout",
     "output_type": "stream",
     "text": [
      "2003 Toyota 4Runner\n",
      "The 4Runner's engine is now running.\n",
      "2024 Tesla Model S\n",
      "This car has a 100-kWh battery.\n",
      "The Model S starts silently — it's electric!\n"
     ]
    }
   ],
   "source": [
    "# In this block, we will run some use cases of the given function.\n",
    "\n",
    "my_car = Car(\"Toyota\", \"4Runner\", 2003)\n",
    "print(my_car.describe())\n",
    "print(my_car.start_engine())\n",
    "\n",
    "my_tesla = ElectricCar(\"Tesla\", \"Model S\", 2024, 100)\n",
    "print(my_tesla.describe())\n",
    "print(my_tesla.describe_battery())\n",
    "print(my_tesla.start_engine())"
   ]
  },
  {
   "cell_type": "code",
   "execution_count": 29,
   "id": "0da26925-5f1b-4e65-8087-7fba00ae7aff",
   "metadata": {},
   "outputs": [],
   "source": [
    "# This matters because deep learning frameworks use OOP everywhere. \n",
    "# model = Sequential() -> create an object\n",
    "# model.add(Dense(....)) -> method calls\n",
    "# model.trainable_variables -> object attributes\n",
    "\n",
    "# Understanding OOP lets us read and customize deep learning code with confidence "
   ]
  },
  {
   "cell_type": "code",
   "execution_count": 30,
   "id": "d128d5a7-c580-4b4b-82b4-8681b3b67d7d",
   "metadata": {},
   "outputs": [],
   "source": [
    "# for as1.ipynb, this introduces linear models (like perceptron or logistic regression),\n",
    "# and their learning rule. \n",
    "\n",
    "# Here, we are initializing all the variables we need for the perceptron.\n",
    "\n",
    "import numpy as np\n",
    "\n",
    "# 1️⃣ Input data (features) recall the perceptron worksheet, these are the original X's and Y's\n",
    "# that we are trying to guess\n",
    "X = np.array([\n",
    "    [0, 0],\n",
    "    [0, 1],\n",
    "    [1, 0],\n",
    "    [1, 1]\n",
    "])\n",
    "\n",
    "# 2️⃣ Target output (labels)\n",
    "y = np.array([0, 0, 0, 1])  # AND gate\n",
    "\n",
    "# 3️⃣ Hyperparameters\n",
    "num_epochs = 10      # number of passes through the dataset\n",
    "eta = 0.1            # learning rate\n",
    "\n",
    "# 4️⃣ Initialize weights and bias\n",
    "w = np.zeros(X.shape[1])  # same number of weights as features (2 inputs → 2 weights)\n",
    "b = 0                     # start bias at zero\n",
    "\n",
    "# 5️⃣ Step activation function\n",
    "def step(z):\n",
    "    return 1 if z >= 0 else 0\n",
    "\n",
    "\n",
    "\n",
    "\n",
    " \n"
   ]
  },
  {
   "cell_type": "code",
   "execution_count": 31,
   "id": "b9ca7fb1-32cd-44e3-94f5-b379862957bb",
   "metadata": {},
   "outputs": [],
   "source": [
    "# The goal here is to understand: \n",
    "# how input weights, and bias combine to produce an output\n",
    "# how a loss function quantifies error\n",
    "# how weights are updated using the learning rule\n",
    "# Below is an example of that logic(typical perceptron training loop):\n",
    "\n",
    "for epoch in range(num_epochs):\n",
    "    \n",
    "# Each epoch means one full pass through all training examples\n",
    "    \n",
    "    for x, target in zip(X, y):\n",
    "# 'x' in this instance is a single training example, like [0, 1]\n",
    "# 'target' is the correct label for that example, like 0 or 1\n",
    "# zip(X, y) pairs each input vector with its true output\n",
    "\n",
    "# Step 1: Compute the weighted sum (the neuron input)\n",
    "        y_pred = np.dot(x, w) + b\n",
    "# np.dot(x, w) = x1*w1 + x2*w2 + ... + xn*wn\n",
    "# b = bias term (acts like an intercept)\n",
    "# The result (y_pred) is the neuron's raw output to 0 or 1 (activation)\n",
    "\n",
    "# Step 2: Compute the error between actual and predicted output \n",
    "        error = target - step(y_pred)\n",
    "# 'step(y_pred)' converts the raw output to 0 or 1 (activation)\n",
    "        # If prediction is correct, error = 0\n",
    "        # If prediction is wrong, error = 1 \n",
    "# Positive error means we predicted too low an increase in weights\n",
    "# Negative error means we predicted too high, decrease weights\n",
    "\n",
    "# Step 3: Update the weights\n",
    "        w += eta * error * x\n",
    "# this is the perceptron learning rule:\n",
    "    # new_weight = old_weight + (learning_rate * error * input)\n",
    "# If the prediction was correct (error = 0), weights don't change.\n",
    "# If we underpredicted, the weight increases toward the correct direction\n",
    "# If we overpredicted, weights decrease. \n",
    "        \n",
    "# Step 4: Update the bias term\n",
    "        b += eta * error\n",
    "# Bias shifts the decision boundary left/right (independent of input)\n",
    "# Updated using the same rule but without multiplying by x. "
   ]
  },
  {
   "cell_type": "code",
   "execution_count": 32,
   "id": "2568edd5-beeb-4860-9059-1cacd04fd980",
   "metadata": {},
   "outputs": [],
   "source": [
    "# Key Ideas\n",
    "\n",
    "# Inputs (X) are multiplied by weights (w)\n",
    "# Add a bias (b)\n",
    "# Pass through activation function (step or sigmoid)\n",
    "# Compute Error\n",
    "# Adjust weights using learning rate \"eta\"\n",
    "\n",
    "# Concepts\n",
    "\n",
    "#output=activation(weighted_sum)\n",
    "#perceptron rule:\n",
    "# wj=wj+η×(y−y^)*x^j  \n",
    "\n",
    "\n",
    "\n",
    "\n",
    "\n"
   ]
  },
  {
   "cell_type": "code",
   "execution_count": 33,
   "id": "c3b8e89f-4de6-461f-a8cf-0e0574b74da8",
   "metadata": {},
   "outputs": [],
   "source": [
    "# Now for section 3, we'll learn how to make a perceptron from scratch. \n",
    "\n",
    "#Here, we learn the difference between a perceptron and an Adaline (ADAptive LInear NEuron)\n",
    "\n",
    "# Activation - Step Function - Linear (before threshold)\n",
    "\n",
    "# Learning - based on classification error - Based on continuous loss (MSE)\n",
    "\n",
    "# Optimization - Rule Based - Gradient Descent "
   ]
  },
  {
   "cell_type": "code",
   "execution_count": 38,
   "id": "2f770346-da8d-4d67-887f-03743cc57641",
   "metadata": {},
   "outputs": [],
   "source": [
    "num_iters = 200 # number of weight updates\n",
    "costs = [] #creates empty list to track cost history\n",
    "for i in range(num_iters):\n",
    "    net_input = np.dot(X, w) + b\n",
    "    output = net_input\n",
    "    errors = y - output\n",
    "    w += eta * X.T.dot(errors)\n",
    "    b += eta * errors.sum()\n",
    "    cost = (errors**2).sum() / 2.0\n",
    "    costs.append(cost) #stores the cost after every weight update"
   ]
  },
  {
   "cell_type": "code",
   "execution_count": 41,
   "id": "f0efe5a3-c3f1-4783-a206-68ba8699759d",
   "metadata": {},
   "outputs": [
    {
     "data": {
      "image/png": "[encoded data removed]",
      "text/plain": [
       "<Figure size 640x480 with 1 Axes>"
      ]
     },
     "metadata": {},
     "output_type": "display_data"
    }
   ],
   "source": [
    "# Here, we use matplotlib to plot cost vs epochs\n",
    "plt.plot(range(1, num_iters +1), costs, marker = 'o') # Plots iteration number vs cost\n",
    "plt.title(\"Adaline Training - Cost Vs Iterations\")\n",
    "plt.xlabel(\"Iterations\")\n",
    "plt.ylabel(\"Sum Squared Error (Cost)\")\n",
    "plt.grid(True)\n",
    "plt.show()"
   ]
  },
  {
   "cell_type": "code",
   "execution_count": null,
   "id": "a5b685d1-f8b5-4a31-9fc9-6406f192fd63",
   "metadata": {},
   "outputs": [],
   "source": [
    "# Adaline uses continuous outputs, which are better for convergence\n",
    "\n",
    "# Cost function = Mean Squared Error (MSE)\n",
    "\n",
    "# Gradient Descent adjusts weights based on slope of error curve\n",
    "\n",
    "# Too big of a learning rate too lead to oscillation\n",
    "# If this rate is too small, it leads to a slow learning rate"
   ]
  }
 ],
 "metadata": {
  "kernelspec": {
   "display_name": "Python 3 (ipykernel)",
   "language": "python",
   "name": "python3"
  },
  "language_info": {
   "codemirror_mode": {
    "name": "ipython",
    "version": 3
   },
   "file_extension": ".py",
   "mimetype": "text/x-python",
   "name": "python",
   "nbconvert_exporter": "python",
   "pygments_lexer": "ipython3",
   "version": "3.13.7"
  }
 },
 "nbformat": 4,
 "nbformat_minor": 5
}
