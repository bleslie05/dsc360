{
 "cells": [
  {
   "cell_type": "markdown",
   "metadata": {},
   "source": [
    "# Tensorflow notes\n",
    "\n",
    "We illustrate a few utilities and functionality"
   ]
  },
  {
   "cell_type": "code",
   "execution_count": 2,
   "metadata": {
    "id": "7AbwJWSz9z0X"
   },
   "outputs": [],
   "source": [
    "import tensorflow as tf\n",
    "from tensorflow import keras\n",
    "from keras import layers"
   ]
  },
  {
   "cell_type": "markdown",
   "metadata": {
    "id": "QSSW1MC6FhIF"
   },
   "source": [
    "#### Model summary"
   ]
  },
  {
   "cell_type": "code",
   "execution_count": 3,
   "metadata": {
    "id": "EmP4XBmiP0n4"
   },
   "outputs": [
    {
     "name": "stderr",
     "output_type": "stream",
     "text": [
      "/opt/homebrew/Cellar/jupyterlab/4.4.7/libexec/lib/python3.13/site-packages/keras/src/layers/core/dense.py:92: UserWarning: Do not pass an `input_shape`/`input_dim` argument to a layer. When using Sequential models, prefer using an `Input(shape)` object as the first layer in the model instead.\n",
      "  super().__init__(activity_regularizer=activity_regularizer, **kwargs)\n"
     ]
    },
    {
     "data": {
      "text/html": [
       "<pre style=\"white-space:pre;overflow-x:auto;line-height:normal;font-family:Menlo,'DejaVu Sans Mono',consolas,'Courier New',monospace\"><span style=\"font-weight: bold\">Model: \"sequential\"</span>\n",
       "</pre>\n"
      ],
      "text/plain": [
       "\u001b[1mModel: \"sequential\"\u001b[0m\n"
      ]
     },
     "metadata": {},
     "output_type": "display_data"
    },
    {
     "data": {
      "text/html": [
       "<pre style=\"white-space:pre;overflow-x:auto;line-height:normal;font-family:Menlo,'DejaVu Sans Mono',consolas,'Courier New',monospace\">┏━━━━━━━━━━━━━━━━━━━━━━━━━━━━━━━━━┳━━━━━━━━━━━━━━━━━━━━━━━━┳━━━━━━━━━━━━━━━┓\n",
       "┃<span style=\"font-weight: bold\"> Layer (type)                    </span>┃<span style=\"font-weight: bold\"> Output Shape           </span>┃<span style=\"font-weight: bold\">       Param # </span>┃\n",
       "┡━━━━━━━━━━━━━━━━━━━━━━━━━━━━━━━━━╇━━━━━━━━━━━━━━━━━━━━━━━━╇━━━━━━━━━━━━━━━┩\n",
       "│ dense (<span style=\"color: #0087ff; text-decoration-color: #0087ff\">Dense</span>)                   │ (<span style=\"color: #00d7ff; text-decoration-color: #00d7ff\">None</span>, <span style=\"color: #00af00; text-decoration-color: #00af00\">64</span>)             │        <span style=\"color: #00af00; text-decoration-color: #00af00\">50,240</span> │\n",
       "├─────────────────────────────────┼────────────────────────┼───────────────┤\n",
       "│ dense_1 (<span style=\"color: #0087ff; text-decoration-color: #0087ff\">Dense</span>)                 │ (<span style=\"color: #00d7ff; text-decoration-color: #00d7ff\">None</span>, <span style=\"color: #00af00; text-decoration-color: #00af00\">128</span>)            │         <span style=\"color: #00af00; text-decoration-color: #00af00\">8,320</span> │\n",
       "├─────────────────────────────────┼────────────────────────┼───────────────┤\n",
       "│ dense_2 (<span style=\"color: #0087ff; text-decoration-color: #0087ff\">Dense</span>)                 │ (<span style=\"color: #00d7ff; text-decoration-color: #00d7ff\">None</span>, <span style=\"color: #00af00; text-decoration-color: #00af00\">64</span>)             │         <span style=\"color: #00af00; text-decoration-color: #00af00\">8,256</span> │\n",
       "├─────────────────────────────────┼────────────────────────┼───────────────┤\n",
       "│ dense_3 (<span style=\"color: #0087ff; text-decoration-color: #0087ff\">Dense</span>)                 │ (<span style=\"color: #00d7ff; text-decoration-color: #00d7ff\">None</span>, <span style=\"color: #00af00; text-decoration-color: #00af00\">10</span>)             │           <span style=\"color: #00af00; text-decoration-color: #00af00\">650</span> │\n",
       "└─────────────────────────────────┴────────────────────────┴───────────────┘\n",
       "</pre>\n"
      ],
      "text/plain": [
       "┏━━━━━━━━━━━━━━━━━━━━━━━━━━━━━━━━━┳━━━━━━━━━━━━━━━━━━━━━━━━┳━━━━━━━━━━━━━━━┓\n",
       "┃\u001b[1m \u001b[0m\u001b[1mLayer (type)                   \u001b[0m\u001b[1m \u001b[0m┃\u001b[1m \u001b[0m\u001b[1mOutput Shape          \u001b[0m\u001b[1m \u001b[0m┃\u001b[1m \u001b[0m\u001b[1m      Param #\u001b[0m\u001b[1m \u001b[0m┃\n",
       "┡━━━━━━━━━━━━━━━━━━━━━━━━━━━━━━━━━╇━━━━━━━━━━━━━━━━━━━━━━━━╇━━━━━━━━━━━━━━━┩\n",
       "│ dense (\u001b[38;5;33mDense\u001b[0m)                   │ (\u001b[38;5;45mNone\u001b[0m, \u001b[38;5;34m64\u001b[0m)             │        \u001b[38;5;34m50,240\u001b[0m │\n",
       "├─────────────────────────────────┼────────────────────────┼───────────────┤\n",
       "│ dense_1 (\u001b[38;5;33mDense\u001b[0m)                 │ (\u001b[38;5;45mNone\u001b[0m, \u001b[38;5;34m128\u001b[0m)            │         \u001b[38;5;34m8,320\u001b[0m │\n",
       "├─────────────────────────────────┼────────────────────────┼───────────────┤\n",
       "│ dense_2 (\u001b[38;5;33mDense\u001b[0m)                 │ (\u001b[38;5;45mNone\u001b[0m, \u001b[38;5;34m64\u001b[0m)             │         \u001b[38;5;34m8,256\u001b[0m │\n",
       "├─────────────────────────────────┼────────────────────────┼───────────────┤\n",
       "│ dense_3 (\u001b[38;5;33mDense\u001b[0m)                 │ (\u001b[38;5;45mNone\u001b[0m, \u001b[38;5;34m10\u001b[0m)             │           \u001b[38;5;34m650\u001b[0m │\n",
       "└─────────────────────────────────┴────────────────────────┴───────────────┘\n"
      ]
     },
     "metadata": {},
     "output_type": "display_data"
    },
    {
     "data": {
      "text/html": [
       "<pre style=\"white-space:pre;overflow-x:auto;line-height:normal;font-family:Menlo,'DejaVu Sans Mono',consolas,'Courier New',monospace\"><span style=\"font-weight: bold\"> Total params: </span><span style=\"color: #00af00; text-decoration-color: #00af00\">67,466</span> (263.54 KB)\n",
       "</pre>\n"
      ],
      "text/plain": [
       "\u001b[1m Total params: \u001b[0m\u001b[38;5;34m67,466\u001b[0m (263.54 KB)\n"
      ]
     },
     "metadata": {},
     "output_type": "display_data"
    },
    {
     "data": {
      "text/html": [
       "<pre style=\"white-space:pre;overflow-x:auto;line-height:normal;font-family:Menlo,'DejaVu Sans Mono',consolas,'Courier New',monospace\"><span style=\"font-weight: bold\"> Trainable params: </span><span style=\"color: #00af00; text-decoration-color: #00af00\">67,466</span> (263.54 KB)\n",
       "</pre>\n"
      ],
      "text/plain": [
       "\u001b[1m Trainable params: \u001b[0m\u001b[38;5;34m67,466\u001b[0m (263.54 KB)\n"
      ]
     },
     "metadata": {},
     "output_type": "display_data"
    },
    {
     "data": {
      "text/html": [
       "<pre style=\"white-space:pre;overflow-x:auto;line-height:normal;font-family:Menlo,'DejaVu Sans Mono',consolas,'Courier New',monospace\"><span style=\"font-weight: bold\"> Non-trainable params: </span><span style=\"color: #00af00; text-decoration-color: #00af00\">0</span> (0.00 B)\n",
       "</pre>\n"
      ],
      "text/plain": [
       "\u001b[1m Non-trainable params: \u001b[0m\u001b[38;5;34m0\u001b[0m (0.00 B)\n"
      ]
     },
     "metadata": {},
     "output_type": "display_data"
    }
   ],
   "source": [
    "model = keras.models.Sequential()\n",
    "model.add(layers.Dense(64, activation=\"relu\", input_shape = (784,)))\n",
    "model.add(layers.Dense(128, activation=\"relu\"))\n",
    "model.add(layers.Dense(64, activation=\"relu\"))\n",
    "model.add(layers.Dense(10, activation=\"softmax\"))\n",
    "model.summary()"
   ]
  },
  {
   "cell_type": "markdown",
   "metadata": {},
   "source": [
    "#### Functional API\n",
    "\n",
    "Same model"
   ]
  },
  {
   "cell_type": "code",
   "execution_count": 4,
   "metadata": {},
   "outputs": [
    {
     "data": {
      "text/html": [
       "<pre style=\"white-space:pre;overflow-x:auto;line-height:normal;font-family:Menlo,'DejaVu Sans Mono',consolas,'Courier New',monospace\"><span style=\"font-weight: bold\">Model: \"functional_4\"</span>\n",
       "</pre>\n"
      ],
      "text/plain": [
       "\u001b[1mModel: \"functional_4\"\u001b[0m\n"
      ]
     },
     "metadata": {},
     "output_type": "display_data"
    },
    {
     "data": {
      "text/html": [
       "<pre style=\"white-space:pre;overflow-x:auto;line-height:normal;font-family:Menlo,'DejaVu Sans Mono',consolas,'Courier New',monospace\">┏━━━━━━━━━━━━━━━━━━━━━━━━━━━━━━━━━┳━━━━━━━━━━━━━━━━━━━━━━━━┳━━━━━━━━━━━━━━━┓\n",
       "┃<span style=\"font-weight: bold\"> Layer (type)                    </span>┃<span style=\"font-weight: bold\"> Output Shape           </span>┃<span style=\"font-weight: bold\">       Param # </span>┃\n",
       "┡━━━━━━━━━━━━━━━━━━━━━━━━━━━━━━━━━╇━━━━━━━━━━━━━━━━━━━━━━━━╇━━━━━━━━━━━━━━━┩\n",
       "│ input_layer_1 (<span style=\"color: #0087ff; text-decoration-color: #0087ff\">InputLayer</span>)      │ (<span style=\"color: #00d7ff; text-decoration-color: #00d7ff\">None</span>, <span style=\"color: #00af00; text-decoration-color: #00af00\">784</span>)            │             <span style=\"color: #00af00; text-decoration-color: #00af00\">0</span> │\n",
       "├─────────────────────────────────┼────────────────────────┼───────────────┤\n",
       "│ dense_4 (<span style=\"color: #0087ff; text-decoration-color: #0087ff\">Dense</span>)                 │ (<span style=\"color: #00d7ff; text-decoration-color: #00d7ff\">None</span>, <span style=\"color: #00af00; text-decoration-color: #00af00\">64</span>)             │        <span style=\"color: #00af00; text-decoration-color: #00af00\">50,240</span> │\n",
       "├─────────────────────────────────┼────────────────────────┼───────────────┤\n",
       "│ dense_5 (<span style=\"color: #0087ff; text-decoration-color: #0087ff\">Dense</span>)                 │ (<span style=\"color: #00d7ff; text-decoration-color: #00d7ff\">None</span>, <span style=\"color: #00af00; text-decoration-color: #00af00\">128</span>)            │         <span style=\"color: #00af00; text-decoration-color: #00af00\">8,320</span> │\n",
       "├─────────────────────────────────┼────────────────────────┼───────────────┤\n",
       "│ dense_6 (<span style=\"color: #0087ff; text-decoration-color: #0087ff\">Dense</span>)                 │ (<span style=\"color: #00d7ff; text-decoration-color: #00d7ff\">None</span>, <span style=\"color: #00af00; text-decoration-color: #00af00\">64</span>)             │         <span style=\"color: #00af00; text-decoration-color: #00af00\">8,256</span> │\n",
       "├─────────────────────────────────┼────────────────────────┼───────────────┤\n",
       "│ dense_7 (<span style=\"color: #0087ff; text-decoration-color: #0087ff\">Dense</span>)                 │ (<span style=\"color: #00d7ff; text-decoration-color: #00d7ff\">None</span>, <span style=\"color: #00af00; text-decoration-color: #00af00\">10</span>)             │           <span style=\"color: #00af00; text-decoration-color: #00af00\">650</span> │\n",
       "└─────────────────────────────────┴────────────────────────┴───────────────┘\n",
       "</pre>\n"
      ],
      "text/plain": [
       "┏━━━━━━━━━━━━━━━━━━━━━━━━━━━━━━━━━┳━━━━━━━━━━━━━━━━━━━━━━━━┳━━━━━━━━━━━━━━━┓\n",
       "┃\u001b[1m \u001b[0m\u001b[1mLayer (type)                   \u001b[0m\u001b[1m \u001b[0m┃\u001b[1m \u001b[0m\u001b[1mOutput Shape          \u001b[0m\u001b[1m \u001b[0m┃\u001b[1m \u001b[0m\u001b[1m      Param #\u001b[0m\u001b[1m \u001b[0m┃\n",
       "┡━━━━━━━━━━━━━━━━━━━━━━━━━━━━━━━━━╇━━━━━━━━━━━━━━━━━━━━━━━━╇━━━━━━━━━━━━━━━┩\n",
       "│ input_layer_1 (\u001b[38;5;33mInputLayer\u001b[0m)      │ (\u001b[38;5;45mNone\u001b[0m, \u001b[38;5;34m784\u001b[0m)            │             \u001b[38;5;34m0\u001b[0m │\n",
       "├─────────────────────────────────┼────────────────────────┼───────────────┤\n",
       "│ dense_4 (\u001b[38;5;33mDense\u001b[0m)                 │ (\u001b[38;5;45mNone\u001b[0m, \u001b[38;5;34m64\u001b[0m)             │        \u001b[38;5;34m50,240\u001b[0m │\n",
       "├─────────────────────────────────┼────────────────────────┼───────────────┤\n",
       "│ dense_5 (\u001b[38;5;33mDense\u001b[0m)                 │ (\u001b[38;5;45mNone\u001b[0m, \u001b[38;5;34m128\u001b[0m)            │         \u001b[38;5;34m8,320\u001b[0m │\n",
       "├─────────────────────────────────┼────────────────────────┼───────────────┤\n",
       "│ dense_6 (\u001b[38;5;33mDense\u001b[0m)                 │ (\u001b[38;5;45mNone\u001b[0m, \u001b[38;5;34m64\u001b[0m)             │         \u001b[38;5;34m8,256\u001b[0m │\n",
       "├─────────────────────────────────┼────────────────────────┼───────────────┤\n",
       "│ dense_7 (\u001b[38;5;33mDense\u001b[0m)                 │ (\u001b[38;5;45mNone\u001b[0m, \u001b[38;5;34m10\u001b[0m)             │           \u001b[38;5;34m650\u001b[0m │\n",
       "└─────────────────────────────────┴────────────────────────┴───────────────┘\n"
      ]
     },
     "metadata": {},
     "output_type": "display_data"
    },
    {
     "data": {
      "text/html": [
       "<pre style=\"white-space:pre;overflow-x:auto;line-height:normal;font-family:Menlo,'DejaVu Sans Mono',consolas,'Courier New',monospace\"><span style=\"font-weight: bold\"> Total params: </span><span style=\"color: #00af00; text-decoration-color: #00af00\">67,466</span> (263.54 KB)\n",
       "</pre>\n"
      ],
      "text/plain": [
       "\u001b[1m Total params: \u001b[0m\u001b[38;5;34m67,466\u001b[0m (263.54 KB)\n"
      ]
     },
     "metadata": {},
     "output_type": "display_data"
    },
    {
     "data": {
      "text/html": [
       "<pre style=\"white-space:pre;overflow-x:auto;line-height:normal;font-family:Menlo,'DejaVu Sans Mono',consolas,'Courier New',monospace\"><span style=\"font-weight: bold\"> Trainable params: </span><span style=\"color: #00af00; text-decoration-color: #00af00\">67,466</span> (263.54 KB)\n",
       "</pre>\n"
      ],
      "text/plain": [
       "\u001b[1m Trainable params: \u001b[0m\u001b[38;5;34m67,466\u001b[0m (263.54 KB)\n"
      ]
     },
     "metadata": {},
     "output_type": "display_data"
    },
    {
     "data": {
      "text/html": [
       "<pre style=\"white-space:pre;overflow-x:auto;line-height:normal;font-family:Menlo,'DejaVu Sans Mono',consolas,'Courier New',monospace\"><span style=\"font-weight: bold\"> Non-trainable params: </span><span style=\"color: #00af00; text-decoration-color: #00af00\">0</span> (0.00 B)\n",
       "</pre>\n"
      ],
      "text/plain": [
       "\u001b[1m Non-trainable params: \u001b[0m\u001b[38;5;34m0\u001b[0m (0.00 B)\n"
      ]
     },
     "metadata": {},
     "output_type": "display_data"
    }
   ],
   "source": [
    "inputs = keras.Input(shape=(784,))\n",
    "x = layers.Dense(64, activation=\"relu\")(inputs)\n",
    "x = layers.Dense(128, activation=\"relu\")(x)\n",
    "x = layers.Dense(64, activation=\"relu\")(x)\n",
    "outputs = layers.Dense(10, activation=\"softmax\")(x)\n",
    "\n",
    "model = keras.Model(inputs, outputs)\n",
    "model.summary()"
   ]
  },
  {
   "cell_type": "markdown",
   "metadata": {},
   "source": [
    "Can get model and layer outputs. Typically we would want to have trained our model first. If not, will use the initialization weights."
   ]
  },
  {
   "cell_type": "code",
   "execution_count": 9,
   "metadata": {},
   "outputs": [
    {
     "data": {
      "text/html": [
       "<pre style=\"white-space:pre;overflow-x:auto;line-height:normal;font-family:Menlo,'DejaVu Sans Mono',consolas,'Courier New',monospace\"><span style=\"font-weight: bold\">Model: \"functional_4\"</span>\n",
       "</pre>\n"
      ],
      "text/plain": [
       "\u001b[1mModel: \"functional_4\"\u001b[0m\n"
      ]
     },
     "metadata": {},
     "output_type": "display_data"
    },
    {
     "data": {
      "text/html": [
       "<pre style=\"white-space:pre;overflow-x:auto;line-height:normal;font-family:Menlo,'DejaVu Sans Mono',consolas,'Courier New',monospace\">┏━━━━━━━━━━━━━━━━━━━━━━━━━━━━━━━━━┳━━━━━━━━━━━━━━━━━━━━━━━━┳━━━━━━━━━━━━━━━┓\n",
       "┃<span style=\"font-weight: bold\"> Layer (type)                    </span>┃<span style=\"font-weight: bold\"> Output Shape           </span>┃<span style=\"font-weight: bold\">       Param # </span>┃\n",
       "┡━━━━━━━━━━━━━━━━━━━━━━━━━━━━━━━━━╇━━━━━━━━━━━━━━━━━━━━━━━━╇━━━━━━━━━━━━━━━┩\n",
       "│ input_layer_1 (<span style=\"color: #0087ff; text-decoration-color: #0087ff\">InputLayer</span>)      │ (<span style=\"color: #00d7ff; text-decoration-color: #00d7ff\">None</span>, <span style=\"color: #00af00; text-decoration-color: #00af00\">784</span>)            │             <span style=\"color: #00af00; text-decoration-color: #00af00\">0</span> │\n",
       "├─────────────────────────────────┼────────────────────────┼───────────────┤\n",
       "│ dense_4 (<span style=\"color: #0087ff; text-decoration-color: #0087ff\">Dense</span>)                 │ (<span style=\"color: #00d7ff; text-decoration-color: #00d7ff\">None</span>, <span style=\"color: #00af00; text-decoration-color: #00af00\">64</span>)             │        <span style=\"color: #00af00; text-decoration-color: #00af00\">50,240</span> │\n",
       "├─────────────────────────────────┼────────────────────────┼───────────────┤\n",
       "│ dense_5 (<span style=\"color: #0087ff; text-decoration-color: #0087ff\">Dense</span>)                 │ (<span style=\"color: #00d7ff; text-decoration-color: #00d7ff\">None</span>, <span style=\"color: #00af00; text-decoration-color: #00af00\">128</span>)            │         <span style=\"color: #00af00; text-decoration-color: #00af00\">8,320</span> │\n",
       "├─────────────────────────────────┼────────────────────────┼───────────────┤\n",
       "│ dense_6 (<span style=\"color: #0087ff; text-decoration-color: #0087ff\">Dense</span>)                 │ (<span style=\"color: #00d7ff; text-decoration-color: #00d7ff\">None</span>, <span style=\"color: #00af00; text-decoration-color: #00af00\">64</span>)             │         <span style=\"color: #00af00; text-decoration-color: #00af00\">8,256</span> │\n",
       "├─────────────────────────────────┼────────────────────────┼───────────────┤\n",
       "│ dense_7 (<span style=\"color: #0087ff; text-decoration-color: #0087ff\">Dense</span>)                 │ (<span style=\"color: #00d7ff; text-decoration-color: #00d7ff\">None</span>, <span style=\"color: #00af00; text-decoration-color: #00af00\">10</span>)             │           <span style=\"color: #00af00; text-decoration-color: #00af00\">650</span> │\n",
       "└─────────────────────────────────┴────────────────────────┴───────────────┘\n",
       "</pre>\n"
      ],
      "text/plain": [
       "┏━━━━━━━━━━━━━━━━━━━━━━━━━━━━━━━━━┳━━━━━━━━━━━━━━━━━━━━━━━━┳━━━━━━━━━━━━━━━┓\n",
       "┃\u001b[1m \u001b[0m\u001b[1mLayer (type)                   \u001b[0m\u001b[1m \u001b[0m┃\u001b[1m \u001b[0m\u001b[1mOutput Shape          \u001b[0m\u001b[1m \u001b[0m┃\u001b[1m \u001b[0m\u001b[1m      Param #\u001b[0m\u001b[1m \u001b[0m┃\n",
       "┡━━━━━━━━━━━━━━━━━━━━━━━━━━━━━━━━━╇━━━━━━━━━━━━━━━━━━━━━━━━╇━━━━━━━━━━━━━━━┩\n",
       "│ input_layer_1 (\u001b[38;5;33mInputLayer\u001b[0m)      │ (\u001b[38;5;45mNone\u001b[0m, \u001b[38;5;34m784\u001b[0m)            │             \u001b[38;5;34m0\u001b[0m │\n",
       "├─────────────────────────────────┼────────────────────────┼───────────────┤\n",
       "│ dense_4 (\u001b[38;5;33mDense\u001b[0m)                 │ (\u001b[38;5;45mNone\u001b[0m, \u001b[38;5;34m64\u001b[0m)             │        \u001b[38;5;34m50,240\u001b[0m │\n",
       "├─────────────────────────────────┼────────────────────────┼───────────────┤\n",
       "│ dense_5 (\u001b[38;5;33mDense\u001b[0m)                 │ (\u001b[38;5;45mNone\u001b[0m, \u001b[38;5;34m128\u001b[0m)            │         \u001b[38;5;34m8,320\u001b[0m │\n",
       "├─────────────────────────────────┼────────────────────────┼───────────────┤\n",
       "│ dense_6 (\u001b[38;5;33mDense\u001b[0m)                 │ (\u001b[38;5;45mNone\u001b[0m, \u001b[38;5;34m64\u001b[0m)             │         \u001b[38;5;34m8,256\u001b[0m │\n",
       "├─────────────────────────────────┼────────────────────────┼───────────────┤\n",
       "│ dense_7 (\u001b[38;5;33mDense\u001b[0m)                 │ (\u001b[38;5;45mNone\u001b[0m, \u001b[38;5;34m10\u001b[0m)             │           \u001b[38;5;34m650\u001b[0m │\n",
       "└─────────────────────────────────┴────────────────────────┴───────────────┘\n"
      ]
     },
     "metadata": {},
     "output_type": "display_data"
    },
    {
     "data": {
      "text/html": [
       "<pre style=\"white-space:pre;overflow-x:auto;line-height:normal;font-family:Menlo,'DejaVu Sans Mono',consolas,'Courier New',monospace\"><span style=\"font-weight: bold\"> Total params: </span><span style=\"color: #00af00; text-decoration-color: #00af00\">67,466</span> (263.54 KB)\n",
       "</pre>\n"
      ],
      "text/plain": [
       "\u001b[1m Total params: \u001b[0m\u001b[38;5;34m67,466\u001b[0m (263.54 KB)\n"
      ]
     },
     "metadata": {},
     "output_type": "display_data"
    },
    {
     "data": {
      "text/html": [
       "<pre style=\"white-space:pre;overflow-x:auto;line-height:normal;font-family:Menlo,'DejaVu Sans Mono',consolas,'Courier New',monospace\"><span style=\"font-weight: bold\"> Trainable params: </span><span style=\"color: #00af00; text-decoration-color: #00af00\">67,466</span> (263.54 KB)\n",
       "</pre>\n"
      ],
      "text/plain": [
       "\u001b[1m Trainable params: \u001b[0m\u001b[38;5;34m67,466\u001b[0m (263.54 KB)\n"
      ]
     },
     "metadata": {},
     "output_type": "display_data"
    },
    {
     "data": {
      "text/html": [
       "<pre style=\"white-space:pre;overflow-x:auto;line-height:normal;font-family:Menlo,'DejaVu Sans Mono',consolas,'Courier New',monospace\"><span style=\"font-weight: bold\"> Non-trainable params: </span><span style=\"color: #00af00; text-decoration-color: #00af00\">0</span> (0.00 B)\n",
       "</pre>\n"
      ],
      "text/plain": [
       "\u001b[1m Non-trainable params: \u001b[0m\u001b[38;5;34m0\u001b[0m (0.00 B)\n"
      ]
     },
     "metadata": {},
     "output_type": "display_data"
    }
   ],
   "source": [
    "model.summary()"
   ]
  },
  {
   "cell_type": "code",
   "execution_count": 6,
   "metadata": {},
   "outputs": [
    {
     "data": {
      "text/plain": [
       "<tf.Tensor: shape=(10, 64), dtype=float32, numpy=\n",
       "array([[2.1193566 , 0.        , 4.459452  , 1.7968265 , 0.        ,\n",
       "        3.1262434 , 1.7533088 , 0.        , 0.28184533, 0.6635741 ,\n",
       "        3.297966  , 4.4117312 , 0.        , 0.        , 0.        ,\n",
       "        0.        , 0.        , 0.        , 2.0421712 , 1.009255  ,\n",
       "        0.        , 3.0301225 , 0.        , 0.44077423, 0.12919866,\n",
       "        1.7604195 , 0.        , 0.        , 1.4710821 , 1.750342  ,\n",
       "        1.3164033 , 0.38877496, 0.9994884 , 0.7065741 , 2.5336568 ,\n",
       "        3.9963708 , 1.0593308 , 2.918494  , 0.        , 0.22716898,\n",
       "        0.        , 2.216933  , 0.        , 0.53785896, 3.6268501 ,\n",
       "        0.        , 0.        , 0.8187813 , 0.        , 0.        ,\n",
       "        3.6184325 , 2.6557684 , 2.148819  , 1.2243296 , 0.88846195,\n",
       "        0.        , 0.43570036, 5.2269335 , 0.        , 0.        ,\n",
       "        0.        , 0.        , 1.9382727 , 2.20032   ],\n",
       "       [0.7952605 , 1.095631  , 0.        , 1.6406809 , 0.        ,\n",
       "        0.        , 0.        , 0.        , 0.        , 0.        ,\n",
       "        0.10400698, 1.1897683 , 0.        , 1.5278416 , 4.1431746 ,\n",
       "        4.001479  , 2.5079699 , 0.        , 2.5121827 , 0.        ,\n",
       "        0.        , 0.        , 1.739454  , 0.        , 0.        ,\n",
       "        1.8460838 , 0.        , 1.4139374 , 1.5282018 , 0.6701314 ,\n",
       "        3.0662296 , 0.06265486, 0.54405653, 0.        , 2.9859562 ,\n",
       "        0.        , 0.        , 1.7169595 , 0.47094363, 0.        ,\n",
       "        0.        , 2.277708  , 2.3709822 , 2.3435688 , 2.615885  ,\n",
       "        0.        , 0.        , 0.9832549 , 0.3461777 , 0.        ,\n",
       "        1.1431333 , 0.        , 2.6028516 , 2.6804833 , 0.5266196 ,\n",
       "        0.        , 0.        , 0.        , 0.        , 0.        ,\n",
       "        1.9456552 , 0.        , 0.11092915, 0.6609173 ],\n",
       "       [0.        , 3.0148742 , 0.17181416, 0.19964895, 0.        ,\n",
       "        0.        , 0.        , 0.        , 0.05121686, 0.        ,\n",
       "        0.        , 2.119219  , 5.0856133 , 0.        , 0.40890962,\n",
       "        0.        , 0.        , 0.        , 1.3028567 , 0.8628267 ,\n",
       "        0.        , 0.        , 0.        , 0.        , 0.        ,\n",
       "        0.35300687, 1.9749777 , 0.        , 0.54513586, 1.9102304 ,\n",
       "        0.        , 0.68168086, 0.        , 1.5007786 , 1.9261514 ,\n",
       "        0.        , 1.1391324 , 0.        , 1.4403498 , 0.25962827,\n",
       "        1.4029355 , 0.        , 0.        , 1.2470328 , 0.        ,\n",
       "        0.5444214 , 3.984808  , 0.        , 0.37857845, 2.8226917 ,\n",
       "        0.        , 0.        , 1.9710798 , 1.2090567 , 2.246666  ,\n",
       "        0.        , 0.        , 4.381199  , 4.2007356 , 0.04625686,\n",
       "        0.        , 0.1629434 , 0.3089512 , 0.439381  ],\n",
       "       [0.6726275 , 0.        , 0.        , 0.        , 0.        ,\n",
       "        0.        , 0.        , 0.        , 1.8237306 , 0.        ,\n",
       "        0.        , 2.9992065 , 0.968458  , 3.4248204 , 1.5752859 ,\n",
       "        0.        , 0.        , 0.        , 0.19854435, 1.2458655 ,\n",
       "        1.0082152 , 1.8161116 , 0.93978006, 0.        , 0.        ,\n",
       "        0.        , 3.1436489 , 2.0604072 , 0.36647758, 0.        ,\n",
       "        1.5221725 , 0.        , 2.3605492 , 0.        , 0.        ,\n",
       "        1.2887138 , 0.        , 0.        , 0.        , 0.        ,\n",
       "        3.1712773 , 1.008462  , 2.5961788 , 0.        , 2.24964   ,\n",
       "        1.4313328 , 0.        , 4.3982444 , 0.36702642, 0.        ,\n",
       "        0.        , 0.        , 0.        , 0.        , 0.24125725,\n",
       "        0.        , 0.92971057, 0.        , 0.        , 0.        ,\n",
       "        0.42413595, 1.7001537 , 0.        , 0.        ],\n",
       "       [0.        , 0.        , 1.200202  , 0.        , 0.        ,\n",
       "        0.        , 0.        , 0.        , 2.1066182 , 0.        ,\n",
       "        3.2089887 , 0.        , 3.8788373 , 0.        , 0.        ,\n",
       "        0.        , 0.5524447 , 2.5625803 , 0.        , 0.        ,\n",
       "        1.2919893 , 0.        , 0.79679173, 0.        , 0.        ,\n",
       "        1.8912879 , 0.        , 0.        , 0.        , 0.4912009 ,\n",
       "        0.7651691 , 0.        , 0.        , 1.9368818 , 1.2159632 ,\n",
       "        1.2983247 , 0.        , 0.        , 1.6505363 , 0.55310947,\n",
       "        0.3526931 , 0.        , 0.        , 2.3059993 , 0.        ,\n",
       "        2.722611  , 2.1704123 , 0.6164004 , 0.        , 0.3823826 ,\n",
       "        0.        , 0.        , 0.        , 0.        , 0.        ,\n",
       "        1.7194338 , 2.5970855 , 1.7360336 , 3.9481723 , 1.8976904 ,\n",
       "        2.1005514 , 0.5208748 , 0.        , 0.22766879],\n",
       "       [0.        , 1.2058017 , 0.15631247, 0.        , 0.        ,\n",
       "        0.        , 0.40727273, 0.        , 0.3596721 , 0.        ,\n",
       "        0.        , 0.        , 1.122102  , 0.6467732 , 3.5120776 ,\n",
       "        2.0730543 , 0.23732421, 0.        , 1.3834256 , 1.0414652 ,\n",
       "        5.274989  , 1.5568926 , 4.8452864 , 0.60751444, 0.        ,\n",
       "        0.        , 0.        , 0.        , 0.        , 0.        ,\n",
       "        1.4679798 , 4.2408686 , 3.2635293 , 0.        , 1.2148393 ,\n",
       "        0.        , 0.        , 0.        , 0.        , 0.97071934,\n",
       "        2.7749436 , 1.6931791 , 2.3786142 , 0.07360865, 3.9703166 ,\n",
       "        0.        , 0.        , 0.        , 0.        , 1.349965  ,\n",
       "        1.2086055 , 0.        , 0.5177941 , 1.7772012 , 0.48316473,\n",
       "        0.        , 8.260994  , 2.0422888 , 1.913749  , 0.        ,\n",
       "        2.5211136 , 0.        , 0.        , 0.4398243 ],\n",
       "       [0.        , 0.        , 3.1185539 , 0.        , 3.3678029 ,\n",
       "        0.        , 0.        , 0.        , 0.        , 0.0581524 ,\n",
       "        0.        , 3.4150195 , 0.09372526, 5.0012536 , 0.48738074,\n",
       "        0.        , 0.        , 1.1792693 , 2.111556  , 0.        ,\n",
       "        0.45877472, 0.        , 1.3983736 , 0.        , 1.7359047 ,\n",
       "        1.2753425 , 0.        , 0.        , 2.5519197 , 0.        ,\n",
       "        1.9315804 , 0.        , 1.7994381 , 5.411454  , 0.        ,\n",
       "        2.34997   , 0.        , 0.        , 2.110712  , 0.9672086 ,\n",
       "        0.        , 0.        , 0.        , 0.        , 0.        ,\n",
       "        2.5414994 , 0.        , 0.        , 1.1278524 , 0.        ,\n",
       "        0.54324394, 1.240065  , 2.8220377 , 0.        , 0.        ,\n",
       "        0.        , 4.6054544 , 0.7866111 , 0.        , 2.1078413 ,\n",
       "        2.5977836 , 0.        , 0.8039842 , 0.        ],\n",
       "       [1.3169347 , 1.7648846 , 0.        , 0.        , 0.        ,\n",
       "        0.69663215, 3.7870855 , 3.8379996 , 0.31824777, 0.        ,\n",
       "        3.5925632 , 0.        , 0.        , 0.        , 0.        ,\n",
       "        4.634321  , 0.        , 1.8129301 , 0.        , 2.1609728 ,\n",
       "        0.        , 1.0020133 , 2.1909091 , 0.        , 3.390845  ,\n",
       "        0.        , 1.114075  , 0.        , 0.        , 0.        ,\n",
       "        0.        , 0.        , 0.        , 0.        , 0.        ,\n",
       "        3.4623632 , 0.        , 0.01057925, 0.        , 0.        ,\n",
       "        0.22646847, 0.        , 0.17111702, 0.        , 3.5135875 ,\n",
       "        0.        , 1.4089918 , 0.        , 1.3347584 , 0.        ,\n",
       "        2.179844  , 0.60185623, 0.        , 5.716138  , 0.        ,\n",
       "        0.        , 2.866286  , 0.        , 0.6122088 , 0.        ,\n",
       "        0.5816618 , 2.171346  , 7.0766187 , 1.9422559 ],\n",
       "       [2.3340087 , 1.0539716 , 0.        , 0.43907705, 2.849239  ,\n",
       "        3.9051774 , 6.3625436 , 0.65975124, 0.41287962, 1.7356282 ,\n",
       "        1.0415894 , 2.736389  , 0.        , 3.4708421 , 0.21275708,\n",
       "        3.8811479 , 1.0274587 , 2.030428  , 0.        , 0.        ,\n",
       "        0.        , 0.        , 2.6100438 , 0.7810628 , 0.        ,\n",
       "        0.        , 0.        , 1.322187  , 0.08890055, 0.        ,\n",
       "        1.4825642 , 0.        , 0.        , 3.137821  , 0.        ,\n",
       "        0.43686843, 0.35163775, 0.4212842 , 0.        , 0.        ,\n",
       "        0.        , 0.87825173, 0.        , 0.        , 2.9306583 ,\n",
       "        0.        , 0.        , 1.1418037 , 0.93810916, 4.569615  ,\n",
       "        0.        , 1.8309869 , 2.229195  , 3.1113305 , 2.0701897 ,\n",
       "        2.494882  , 1.5943031 , 1.7417102 , 0.95329297, 1.4056109 ,\n",
       "        0.4978621 , 2.0869527 , 0.        , 0.2893849 ],\n",
       "       [0.        , 0.964205  , 2.509399  , 1.0205224 , 0.        ,\n",
       "        0.        , 1.7870427 , 0.        , 0.        , 1.1521987 ,\n",
       "        5.749294  , 0.3060441 , 1.642527  , 0.2848657 , 2.5821655 ,\n",
       "        0.        , 0.        , 2.8650696 , 0.        , 0.65750057,\n",
       "        0.        , 0.21289173, 0.        , 1.6821637 , 5.4178243 ,\n",
       "        0.        , 1.7259479 , 0.68403786, 0.72188497, 1.6615858 ,\n",
       "        1.5752319 , 1.5420724 , 0.        , 3.1112528 , 0.50095195,\n",
       "        0.49152595, 0.6730685 , 0.        , 0.        , 0.        ,\n",
       "        0.35860246, 2.6051729 , 2.9892123 , 0.2922314 , 1.3254993 ,\n",
       "        0.9525249 , 0.        , 4.5113783 , 0.        , 0.        ,\n",
       "        0.        , 0.9680657 , 2.4700096 , 0.89583415, 0.7938759 ,\n",
       "        0.        , 1.5979532 , 0.        , 3.627797  , 1.8512211 ,\n",
       "        2.0484183 , 0.        , 0.86280316, 1.0660468 ]], dtype=float32)>"
      ]
     },
     "execution_count": 6,
     "metadata": {},
     "output_type": "execute_result"
    }
   ],
   "source": [
    "import numpy as np\n",
    "data = np.random.normal(0, 2, 1280).reshape(10, 128)\n",
    "\n",
    "model.layers[3](data)"
   ]
  },
  {
   "cell_type": "markdown",
   "metadata": {},
   "source": [
    "## Try `mnist` data\n",
    "\n",
    "Why do we need to reshape the data? Note we could alternatively use a flatten layer"
   ]
  },
  {
   "cell_type": "code",
   "execution_count": 7,
   "metadata": {},
   "outputs": [
    {
     "name": "stdout",
     "output_type": "stream",
     "text": [
      "Downloading data from https://storage.googleapis.com/tensorflow/tf-keras-datasets/mnist.npz\n",
      "\u001b[1m11490434/11490434\u001b[0m \u001b[32m━━━━━━━━━━━━━━━━━━━━\u001b[0m\u001b[37m\u001b[0m \u001b[1m1s\u001b[0m 0us/step\n"
     ]
    }
   ],
   "source": [
    "from keras.optimizers import SGD, RMSprop, Adam\n",
    "from keras.datasets import mnist\n",
    "\n",
    "# Load the MNIST dataset\n",
    "(x_train, y_train), (x_test, y_test) = mnist.load_data()\n",
    "\n",
    "# Normalize the images to the range [0, 1]\n",
    "x_train = x_train.astype('float32').reshape(60000, 28*28) / 255.0\n",
    "x_test = x_test.astype('float32').reshape(10000, 28*28)  / 255.0\n",
    "\n",
    "# Compile the model with a small learning rate\n",
    "model.compile(optimizer=Adam(learning_rate=0.01), \n",
    "              loss='sparse_categorical_crossentropy', \n",
    "              metrics=['accuracy'])\n",
    "\n",
    "\n"
   ]
  },
  {
   "cell_type": "code",
   "execution_count": null,
   "metadata": {},
   "outputs": [
    {
     "name": "stdout",
     "output_type": "stream",
     "text": [
      "Epoch 1/10\n",
      "1875/1875 [==============================] - 2s 898us/step - loss: 0.3129 - accuracy: 0.9114 - val_loss: 0.2416 - val_accuracy: 0.9362\n",
      "Epoch 2/10\n",
      "1875/1875 [==============================] - 2s 878us/step - loss: 0.2182 - accuracy: 0.9427 - val_loss: 0.1831 - val_accuracy: 0.9510\n",
      "Epoch 3/10\n",
      "1875/1875 [==============================] - 2s 875us/step - loss: 0.1845 - accuracy: 0.9511 - val_loss: 0.1837 - val_accuracy: 0.9532\n",
      "Epoch 4/10\n",
      "1875/1875 [==============================] - 2s 954us/step - loss: 0.1737 - accuracy: 0.9564 - val_loss: 0.1733 - val_accuracy: 0.9546\n",
      "Epoch 5/10\n",
      "1875/1875 [==============================] - 2s 942us/step - loss: 0.1496 - accuracy: 0.9628 - val_loss: 0.2416 - val_accuracy: 0.9425\n",
      "Epoch 6/10\n",
      "1875/1875 [==============================] - 2s 901us/step - loss: 0.1485 - accuracy: 0.9640 - val_loss: 0.1843 - val_accuracy: 0.9600\n",
      "Epoch 7/10\n",
      "1875/1875 [==============================] - 2s 948us/step - loss: 0.1347 - accuracy: 0.9681 - val_loss: 0.1925 - val_accuracy: 0.9596\n",
      "Epoch 8/10\n",
      "1875/1875 [==============================] - 2s 881us/step - loss: 0.1465 - accuracy: 0.9661 - val_loss: 0.1762 - val_accuracy: 0.9607\n",
      "Epoch 9/10\n",
      "1875/1875 [==============================] - 2s 874us/step - loss: 0.1316 - accuracy: 0.9685 - val_loss: 0.2043 - val_accuracy: 0.9629\n",
      "Epoch 10/10\n",
      "1875/1875 [==============================] - 2s 879us/step - loss: 0.1250 - accuracy: 0.9717 - val_loss: 0.1827 - val_accuracy: 0.9610\n"
     ]
    }
   ],
   "source": [
    "\n",
    "\n",
    "history = model.fit(x_train, y_train, epochs=10, validation_data=(x_test, y_test))\n",
    "\n"
   ]
  },
  {
   "cell_type": "code",
   "execution_count": 8,
   "metadata": {},
   "outputs": [
    {
     "data": {
      "image/png": "[encoded data removed]",
      "text/plain": [
       "<Figure size 640x480 with 1 Axes>"
      ]
     },
     "metadata": {},
     "output_type": "display_data"
    }
   ],
   "source": [
    "from matplotlib import pyplot as plt\n",
    "\n",
    "plt.plot(history.history['loss'], label='Train')\n",
    "plt.plot(history.history['val_loss'], label='Validation')\n",
    "plt.ylabel('Binary Cross Entropy Loss')\n",
    "plt.xlabel('Epoch')\n",
    "plt.legend(loc='upper right')\n",
    "plt.show()\n"
   ]
  },
  {
   "cell_type": "code",
   "execution_count": 9,
   "metadata": {},
   "outputs": [
    {
     "name": "stdout",
     "output_type": "stream",
     "text": [
      "157/157 [==============================] - 0s 497us/step - loss: 0.2083 - accuracy: 0.9616\n"
     ]
    },
    {
     "data": {
      "text/plain": [
       "[0.20826353132724762, 0.9616000056266785]"
      ]
     },
     "execution_count": 9,
     "metadata": {},
     "output_type": "execute_result"
    }
   ],
   "source": [
    "model.evaluate(x_test,  y_test, batch_size=64)"
   ]
  },
  {
   "cell_type": "markdown",
   "metadata": {},
   "source": [
    "\n",
    "#### Early stopping"
   ]
  },
  {
   "cell_type": "code",
   "execution_count": 10,
   "metadata": {},
   "outputs": [
    {
     "name": "stdout",
     "output_type": "stream",
     "text": [
      "Epoch 1/2\n",
      "1875/1875 [==============================] - 2s 891us/step - loss: 0.0823 - accuracy: 0.9799 - sparse_categorical_accuracy: 0.9799 - val_loss: 0.1590 - val_accuracy: 0.9705 - val_sparse_categorical_accuracy: 0.9705\n",
      "Epoch 2/2\n",
      "1875/1875 [==============================] - 2s 855us/step - loss: 0.0609 - accuracy: 0.9837 - sparse_categorical_accuracy: 0.9837 - val_loss: 0.1531 - val_accuracy: 0.9708 - val_sparse_categorical_accuracy: 0.9708\n"
     ]
    },
    {
     "data": {
      "text/plain": [
       "<keras.callbacks.History at 0x336a0c350>"
      ]
     },
     "execution_count": 10,
     "metadata": {},
     "output_type": "execute_result"
    }
   ],
   "source": [
    "from tensorflow.keras import metrics\n",
    "from tensorflow.keras import callbacks\n",
    "from tensorflow.keras.optimizers import Adam\n",
    "\n",
    "model.compile(optimizer= \"adam\",\n",
    "              loss='sparse_categorical_crossentropy',\n",
    "              metrics=[\"accuracy\", 'sparse_categorical_accuracy'])\n",
    "\n",
    "callbacks_list = [tf.keras.callbacks.EarlyStopping(monitor='val_loss', patience=5)\n",
    "                    ]\n",
    "model.fit(x=x_train, \n",
    "          y=y_train, \n",
    "          epochs=2, \n",
    "          validation_data=(x_test, y_test),\n",
    "                           callbacks=callbacks_list\n",
    "          ) \n",
    "        "
   ]
  },
  {
   "cell_type": "markdown",
   "metadata": {},
   "source": [
    "#### Learning rate decay.\n",
    "Can set  constant decay for some optimizers"
   ]
  },
  {
   "cell_type": "code",
   "execution_count": 11,
   "metadata": {},
   "outputs": [],
   "source": [
    "from keras.optimizers import SGD\n",
    "\n",
    "# create a SGD optimizer with learning rate of 0.01 and decay of 1e-6\n",
    "optimizer = SGD(learning_rate =0.01, decay=1e-6)"
   ]
  },
  {
   "cell_type": "markdown",
   "metadata": {},
   "source": [
    "or define your own like this"
   ]
  },
  {
   "cell_type": "code",
   "execution_count": 12,
   "metadata": {},
   "outputs": [
    {
     "name": "stdout",
     "output_type": "stream",
     "text": [
      "Epoch 1/2\n",
      "1875/1875 [==============================] - 2s 873us/step - loss: 0.0516 - accuracy: 0.9854 - sparse_categorical_accuracy: 0.9854 - lr: 9.0000e-04\n",
      "Epoch 2/2\n",
      "1875/1875 [==============================] - 2s 800us/step - loss: 0.0465 - accuracy: 0.9866 - sparse_categorical_accuracy: 0.9866 - lr: 8.1000e-04\n"
     ]
    },
    {
     "data": {
      "text/plain": [
       "<keras.callbacks.History at 0x33697ced0>"
      ]
     },
     "execution_count": 12,
     "metadata": {},
     "output_type": "execute_result"
    }
   ],
   "source": [
    "from keras.callbacks import LearningRateScheduler\n",
    "\n",
    "# define a function for the learning rate schedule\n",
    "def schedule(epoch, lr):\n",
    "    return lr * 0.9\n",
    "\n",
    "# create a LearningRateScheduler callback\n",
    "lr_scheduler = LearningRateScheduler(schedule)\n",
    "\n",
    "# use the callback in the model.fit() function\n",
    "model.fit(x_train, y_train, epochs=2, callbacks=[lr_scheduler])"
   ]
  },
  {
   "cell_type": "markdown",
   "metadata": {},
   "source": [
    "### momentum\n",
    "\n",
    "Note that Adam, Nadam have ema, beta1, beta2"
   ]
  },
  {
   "cell_type": "code",
   "execution_count": 1,
   "metadata": {},
   "outputs": [
    {
     "ename": "NameError",
     "evalue": "name 'SGD' is not defined",
     "output_type": "error",
     "traceback": [
      "\u001b[31m---------------------------------------------------------------------------\u001b[39m",
      "\u001b[31mNameError\u001b[39m                                 Traceback (most recent call last)",
      "\u001b[36mCell\u001b[39m\u001b[36m \u001b[39m\u001b[32mIn[1]\u001b[39m\u001b[32m, line 1\u001b[39m\n\u001b[32m----> \u001b[39m\u001b[32m1\u001b[39m optimizer = \u001b[43mSGD\u001b[49m(learning_rate =\u001b[32m0.01\u001b[39m, decay=\u001b[32m1e-6\u001b[39m, momentum= \u001b[32m0.9\u001b[39m)\n",
      "\u001b[31mNameError\u001b[39m: name 'SGD' is not defined"
     ]
    }
   ],
   "source": [
    "optimizer = SGD(learning_rate =0.01, decay=1e-6, momentum= 0.9)"
   ]
  },
  {
   "cell_type": "code",
   "execution_count": 14,
   "metadata": {},
   "outputs": [
    {
     "name": "stdout",
     "output_type": "stream",
     "text": [
      "Epoch 1/2\n",
      "1875/1875 [==============================] - 1s 695us/step - loss: 0.0474 - accuracy: 0.9867 - sparse_categorical_accuracy: 0.9867 - val_loss: 0.1940 - val_accuracy: 0.9714 - val_sparse_categorical_accuracy: 0.9714\n",
      "Epoch 2/2\n",
      "1875/1875 [==============================] - 1s 654us/step - loss: 0.0457 - accuracy: 0.9872 - sparse_categorical_accuracy: 0.9872 - val_loss: 0.1918 - val_accuracy: 0.9717 - val_sparse_categorical_accuracy: 0.9717\n"
     ]
    },
    {
     "data": {
      "text/plain": [
       "<keras.callbacks.History at 0x337672f50>"
      ]
     },
     "execution_count": 14,
     "metadata": {},
     "output_type": "execute_result"
    }
   ],
   "source": [
    "from tensorflow.keras import metrics\n",
    "from tensorflow.keras import callbacks\n",
    "from tensorflow.keras.optimizers import Adam\n",
    "\n",
    "\n",
    "model.compile(optimizer= SGD(learning_rate=0.01, momentum=0.9),\n",
    "              loss='sparse_categorical_crossentropy',\n",
    "              metrics=[\"accuracy\", 'sparse_categorical_accuracy'])\n",
    "\n",
    "                \n",
    "model.fit(x=x_train, \n",
    "          y=y_train, \n",
    "          epochs=2, \n",
    "          validation_data=(x_test, y_test)\n",
    "          ) "
   ]
  },
  {
   "cell_type": "markdown",
   "metadata": {},
   "source": [
    "#### Layers, learning rate, Functional API, \n",
    "\n"
   ]
  },
  {
   "cell_type": "code",
   "execution_count": 15,
   "metadata": {},
   "outputs": [
    {
     "name": "stderr",
     "output_type": "stream",
     "text": [
      "WARNING:absl:At this time, the v2.11+ optimizer `tf.keras.optimizers.SGD` runs slowly on M1/M2 Macs, please use the legacy Keras optimizer instead, located at `tf.keras.optimizers.legacy.SGD`.\n",
      "WARNING:absl:There is a known slowdown when using v2.11+ Keras optimizers on M1/M2 Macs. Falling back to the legacy Keras optimizer, i.e., `tf.keras.optimizers.legacy.SGD`.\n"
     ]
    }
   ],
   "source": [
    "from keras import callbacks\n",
    "\n",
    "callbacks_list = [callbacks.EarlyStopping(monitor='val_loss', patience=5),\n",
    "                  lr_scheduler]\n",
    "\n",
    "optimizer = keras.optimizers.SGD()\n",
    "model.compile(optimizer=optimizer, \n",
    "              loss='sparse_categorical_crossentropy',\n",
    "              metrics=['accuracy'])"
   ]
  },
  {
   "cell_type": "markdown",
   "metadata": {},
   "source": [
    "Can call layers. You might do this for other than simple feed forward architectures. Dimensions of the the layer and what you call it on must match."
   ]
  },
  {
   "cell_type": "code",
   "execution_count": 16,
   "metadata": {},
   "outputs": [
    {
     "data": {
      "text/plain": [
       "<tf.Tensor: shape=(60000, 64), dtype=float32, numpy=\n",
       "array([[ 0.       ,  0.       , 20.077856 , ...,  0.       ,  0.       ,\n",
       "        19.15151  ],\n",
       "       [ 0.       ,  0.       , 53.17994  , ...,  0.       ,  0.       ,\n",
       "         0.       ],\n",
       "       [ 1.5615084,  0.       ,  0.       , ...,  0.       ,  0.       ,\n",
       "        14.764715 ],\n",
       "       ...,\n",
       "       [ 0.       ,  0.       ,  3.378673 , ...,  0.       ,  0.       ,\n",
       "        29.678324 ],\n",
       "       [ 0.       ,  0.       ,  4.3350205, ...,  0.       ,  6.9863772,\n",
       "         0.       ],\n",
       "       [ 0.       ,  0.       , 12.481285 , ...,  0.       ,  0.       ,\n",
       "        26.286688 ]], dtype=float32)>"
      ]
     },
     "execution_count": 16,
     "metadata": {},
     "output_type": "execute_result"
    }
   ],
   "source": [
    "model.layers[1](x_train)"
   ]
  },
  {
   "cell_type": "markdown",
   "metadata": {},
   "source": [
    "Weight decay below is applied after each update of the weights, so after each batch."
   ]
  },
  {
   "cell_type": "code",
   "execution_count": 17,
   "metadata": {},
   "outputs": [
    {
     "name": "stderr",
     "output_type": "stream",
     "text": [
      "WARNING:absl:At this time, the v2.11+ optimizer `tf.keras.optimizers.SGD` runs slowly on M1/M2 Macs, please use the legacy Keras optimizer instead, located at `tf.keras.optimizers.legacy.SGD`.\n"
     ]
    }
   ],
   "source": [
    "model.optimizer = keras.optimizers.SGD(learning_rate=0.01, weight_decay=1e-6, momentum=0.9)"
   ]
  },
  {
   "cell_type": "markdown",
   "metadata": {},
   "source": [
    "#### Saving a model\n",
    "\n",
    "See also https://keras.io/api/callbacks/model_checkpoint/"
   ]
  },
  {
   "cell_type": "code",
   "execution_count": 18,
   "metadata": {},
   "outputs": [],
   "source": [
    "callbacks_list = [callbacks.ModelCheckpoint(filepath='model.h5', save_best_only=True)]"
   ]
  },
  {
   "cell_type": "markdown",
   "metadata": {},
   "source": [
    "Check if the model is saved. It will save in the current working directory. `h5` is a file format for large data sets."
   ]
  },
  {
   "cell_type": "code",
   "execution_count": 19,
   "metadata": {},
   "outputs": [
    {
     "name": "stdout",
     "output_type": "stream",
     "text": [
      "Epoch 1/2\n",
      "1875/1875 [==============================] - 2s 744us/step - loss: 0.0438 - accuracy: 0.9878 - val_loss: 0.1990 - val_accuracy: 0.9708\n",
      "Epoch 2/2\n",
      "1875/1875 [==============================] - 1s 714us/step - loss: 0.0442 - accuracy: 0.9876 - val_loss: 0.1981 - val_accuracy: 0.9722\n"
     ]
    },
    {
     "data": {
      "text/plain": [
       "<keras.callbacks.History at 0x3374677d0>"
      ]
     },
     "execution_count": 19,
     "metadata": {},
     "output_type": "execute_result"
    }
   ],
   "source": [
    "model.fit(x=x_train, \n",
    "          y=y_train, \n",
    "          epochs=2, \n",
    "          validation_data=(x_test, y_test),\n",
    "          callbacks=callbacks_list\n",
    "          ) "
   ]
  },
  {
   "cell_type": "code",
   "execution_count": 20,
   "metadata": {},
   "outputs": [
    {
     "name": "stderr",
     "output_type": "stream",
     "text": [
      "WARNING:absl:At this time, the v2.11+ optimizer `tf.keras.optimizers.SGD` runs slowly on M1/M2 Macs, please use the legacy Keras optimizer instead, located at `tf.keras.optimizers.legacy.SGD`.\n",
      "WARNING:absl:There is a known slowdown when using v2.11+ Keras optimizers on M1/M2 Macs. Falling back to the legacy Keras optimizer, i.e., `tf.keras.optimizers.legacy.SGD`.\n"
     ]
    },
    {
     "data": {
      "text/plain": [
       "<keras.engine.functional.Functional at 0x337d32210>"
      ]
     },
     "execution_count": 20,
     "metadata": {},
     "output_type": "execute_result"
    }
   ],
   "source": [
    "tf.keras.models.load_model('model.h5')"
   ]
  },
  {
   "cell_type": "code",
   "execution_count": null,
   "metadata": {},
   "outputs": [],
   "source": []
  }
 ],
 "metadata": {
  "accelerator": "GPU",
  "colab": {
   "collapsed_sections": [
    "m5mFGijOFaIo"
   ],
   "gpuType": "T4",
   "provenance": []
  },
  "kernelspec": {
   "display_name": "Python 3 (ipykernel)",
   "language": "python",
   "name": "python3"
  },
  "language_info": {
   "codemirror_mode": {
    "name": "ipython",
    "version": 3
   },
   "file_extension": ".py",
   "mimetype": "text/x-python",
   "name": "python",
   "nbconvert_exporter": "python",
   "pygments_lexer": "ipython3",
   "version": "3.13.7"
  }
 },
 "nbformat": 4,
 "nbformat_minor": 4
}
