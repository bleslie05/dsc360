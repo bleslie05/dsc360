{
 "cells": [
  {
   "cell_type": "markdown",
   "metadata": {},
   "source": [
    "## Forest Cover notes"
   ]
  },
  {
   "cell_type": "code",
   "execution_count": null,
   "metadata": {},
   "outputs": [],
   "source": [
    "import numpy as np\n",
    "import pandas as pd\n",
    "from matplotlib import pyplot as plt\n",
    "import time\n",
    "\n",
    "from sklearn.model_selection import train_test_split,  GridSearchCV, StratifiedKFold, RepeatedStratifiedKFold\n",
    "\n"
   ]
  },
  {
   "cell_type": "markdown",
   "metadata": {},
   "source": [
    "#### Load the data\n",
    "\n",
    "We mostly use a reduced set but return to redefine `cover` to be the full set for some models."
   ]
  },
  {
   "cell_type": "code",
   "execution_count": 6,
   "metadata": {},
   "outputs": [],
   "source": [
    "cover = pd.read_csv(\"../../data/covtype.csv\")\n",
    "cover[\"Cover_Type\"] = cover[\"Cover_Type\"].astype(\"category\") \n"
   ]
  },
  {
   "cell_type": "markdown",
   "metadata": {},
   "source": [
    "#### Look at the data\n",
    "\n",
    "Aside from the target, they are all numerical. But all the `Soil_Type` are indicator binary categorical."
   ]
  },
  {
   "cell_type": "code",
   "execution_count": 7,
   "metadata": {},
   "outputs": [
    {
     "data": {
      "text/plain": [
       "(581012, 55)"
      ]
     },
     "execution_count": 7,
     "metadata": {},
     "output_type": "execute_result"
    }
   ],
   "source": [
    "cover.shape"
   ]
  },
  {
   "cell_type": "code",
   "execution_count": 3,
   "metadata": {},
   "outputs": [
    {
     "data": {
      "text/plain": [
       "int64       54\n",
       "category     1\n",
       "Name: count, dtype: int64"
      ]
     },
     "execution_count": 3,
     "metadata": {},
     "output_type": "execute_result"
    }
   ],
   "source": [
    "cover.dtypes.value_counts()"
   ]
  },
  {
   "cell_type": "code",
   "execution_count": 4,
   "metadata": {},
   "outputs": [
    {
     "data": {
      "text/plain": [
       "Elevation                                int64\n",
       "Aspect                                   int64\n",
       "Slope                                    int64\n",
       "Horizontal_Distance_To_Hydrology         int64\n",
       "Vertical_Distance_To_Hydrology           int64\n",
       "Horizontal_Distance_To_Roadways          int64\n",
       "Hillshade_9am                            int64\n",
       "Hillshade_Noon                           int64\n",
       "Hillshade_3pm                            int64\n",
       "Horizontal_Distance_To_Fire_Points       int64\n",
       "Wilderness_Area1                         int64\n",
       "Wilderness_Area2                         int64\n",
       "Wilderness_Area3                         int64\n",
       "Wilderness_Area4                         int64\n",
       "Soil_Type1                               int64\n",
       "Soil_Type2                               int64\n",
       "Soil_Type3                               int64\n",
       "Soil_Type4                               int64\n",
       "Soil_Type5                               int64\n",
       "Soil_Type6                               int64\n",
       "Soil_Type7                               int64\n",
       "Soil_Type8                               int64\n",
       "Soil_Type9                               int64\n",
       "Soil_Type10                              int64\n",
       "Soil_Type11                              int64\n",
       "Soil_Type12                              int64\n",
       "Soil_Type13                              int64\n",
       "Soil_Type14                              int64\n",
       "Soil_Type15                              int64\n",
       "Soil_Type16                              int64\n",
       "Soil_Type17                              int64\n",
       "Soil_Type18                              int64\n",
       "Soil_Type19                              int64\n",
       "Soil_Type20                              int64\n",
       "Soil_Type21                              int64\n",
       "Soil_Type22                              int64\n",
       "Soil_Type23                              int64\n",
       "Soil_Type24                              int64\n",
       "Soil_Type25                              int64\n",
       "Soil_Type26                              int64\n",
       "Soil_Type27                              int64\n",
       "Soil_Type28                              int64\n",
       "Soil_Type29                              int64\n",
       "Soil_Type30                              int64\n",
       "Soil_Type31                              int64\n",
       "Soil_Type32                              int64\n",
       "Soil_Type33                              int64\n",
       "Soil_Type34                              int64\n",
       "Soil_Type35                              int64\n",
       "Soil_Type36                              int64\n",
       "Soil_Type37                              int64\n",
       "Soil_Type38                              int64\n",
       "Soil_Type39                              int64\n",
       "Soil_Type40                              int64\n",
       "Cover_Type                            category\n",
       "dtype: object"
      ]
     },
     "execution_count": 4,
     "metadata": {},
     "output_type": "execute_result"
    }
   ],
   "source": [
    "cover.dtypes"
   ]
  },
  {
   "cell_type": "code",
   "execution_count": 4,
   "metadata": {},
   "outputs": [
    {
     "data": {
      "text/plain": [
       "<Axes: xlabel='Cover_Type'>"
      ]
     },
     "execution_count": 4,
     "metadata": {},
     "output_type": "execute_result"
    },
    {
     "data": {
      "image/png": "[encoded data removed]",
      "text/plain": [
       "<Figure size 640x480 with 1 Axes>"
      ]
     },
     "metadata": {},
     "output_type": "display_data"
    }
   ],
   "source": [
    "cover['Cover_Type'].value_counts().sort_index().plot(kind='bar')"
   ]
  },
  {
   "cell_type": "code",
   "execution_count": 6,
   "metadata": {},
   "outputs": [
    {
     "data": {
      "text/plain": [
       "[('Elevation', 1371),\n",
       " ('Aspect', 361),\n",
       " ('Slope', 52),\n",
       " ('Horizontal_Distance_To_Hydrology', 358),\n",
       " ('Vertical_Distance_To_Hydrology', 405),\n",
       " ('Horizontal_Distance_To_Roadways', 3507),\n",
       " ('Hillshade_9am', 173),\n",
       " ('Hillshade_Noon', 133),\n",
       " ('Hillshade_3pm', 235),\n",
       " ('Horizontal_Distance_To_Fire_Points', 2967),\n",
       " ('Wilderness_Area1', 2),\n",
       " ('Wilderness_Area2', 2),\n",
       " ('Wilderness_Area3', 2),\n",
       " ('Wilderness_Area4', 2),\n",
       " ('Soil_Type1', 2),\n",
       " ('Soil_Type2', 2),\n",
       " ('Soil_Type3', 2),\n",
       " ('Soil_Type4', 2),\n",
       " ('Soil_Type5', 2),\n",
       " ('Soil_Type6', 2),\n",
       " ('Soil_Type7', 2),\n",
       " ('Soil_Type8', 2),\n",
       " ('Soil_Type9', 2),\n",
       " ('Soil_Type10', 2),\n",
       " ('Soil_Type11', 2),\n",
       " ('Soil_Type12', 2),\n",
       " ('Soil_Type13', 2),\n",
       " ('Soil_Type14', 2),\n",
       " ('Soil_Type15', 1),\n",
       " ('Soil_Type16', 2),\n",
       " ('Soil_Type17', 2),\n",
       " ('Soil_Type18', 2),\n",
       " ('Soil_Type19', 2),\n",
       " ('Soil_Type20', 2),\n",
       " ('Soil_Type21', 2),\n",
       " ('Soil_Type22', 2),\n",
       " ('Soil_Type23', 2),\n",
       " ('Soil_Type24', 2),\n",
       " ('Soil_Type25', 2),\n",
       " ('Soil_Type26', 2),\n",
       " ('Soil_Type27', 2),\n",
       " ('Soil_Type28', 2),\n",
       " ('Soil_Type29', 2),\n",
       " ('Soil_Type30', 2),\n",
       " ('Soil_Type31', 2),\n",
       " ('Soil_Type32', 2),\n",
       " ('Soil_Type33', 2),\n",
       " ('Soil_Type34', 2),\n",
       " ('Soil_Type35', 2),\n",
       " ('Soil_Type36', 2),\n",
       " ('Soil_Type37', 2),\n",
       " ('Soil_Type38', 2),\n",
       " ('Soil_Type39', 2),\n",
       " ('Soil_Type40', 2)]"
      ]
     },
     "execution_count": 6,
     "metadata": {},
     "output_type": "execute_result"
    }
   ],
   "source": [
    "int_cols = cover.select_dtypes(include=['int64'])\n",
    "val_counts = [cover[c].nunique() for c in cover.columns ]\n",
    "list(zip(int_cols, val_counts))"
   ]
  },
  {
   "cell_type": "markdown",
   "metadata": {},
   "source": [
    "We see that some of these are all or mostly all zeros. We can eliminate those with `VariableThreshold`. We skip this here."
   ]
  },
  {
   "cell_type": "code",
   "execution_count": 112,
   "metadata": {},
   "outputs": [
    {
     "data": {
      "text/plain": [
       "Wilderness_Area2    0.054133\n",
       "Wilderness_Area3    0.433867\n",
       "Wilderness_Area4    0.064800\n",
       "Soil_Type1          0.004133\n",
       "Soil_Type2          0.011867\n",
       "Soil_Type3          0.010933\n",
       "Soil_Type4          0.020133\n",
       "Soil_Type5          0.002400\n",
       "Soil_Type6          0.011200\n",
       "Soil_Type7          0.000000\n",
       "Soil_Type8          0.000267\n",
       "Soil_Type9          0.001333\n",
       "Soil_Type10         0.058933\n",
       "Soil_Type11         0.022133\n",
       "Soil_Type12         0.052400\n",
       "Soil_Type13         0.027200\n",
       "Soil_Type14         0.000800\n",
       "Soil_Type15         0.000000\n",
       "Soil_Type16         0.004133\n",
       "Soil_Type17         0.006000\n",
       "Soil_Type18         0.002133\n",
       "Soil_Type19         0.007600\n",
       "Soil_Type20         0.016667\n",
       "Soil_Type21         0.002133\n",
       "Soil_Type22         0.060267\n",
       "Soil_Type23         0.100667\n",
       "Soil_Type24         0.038667\n",
       "Soil_Type25         0.001600\n",
       "Soil_Type26         0.003467\n",
       "Soil_Type27         0.001333\n",
       "Soil_Type28         0.001067\n",
       "Soil_Type29         0.200533\n",
       "Soil_Type30         0.050667\n",
       "Soil_Type31         0.045600\n",
       "Soil_Type32         0.084667\n",
       "Soil_Type33         0.078667\n",
       "Soil_Type34         0.002533\n",
       "Soil_Type35         0.003200\n",
       "Soil_Type36         0.000267\n",
       "Soil_Type37         0.000267\n",
       "Soil_Type38         0.023867\n",
       "Soil_Type39         0.024000\n",
       "Soil_Type40         0.016267\n",
       "dtype: float64"
      ]
     },
     "execution_count": 112,
     "metadata": {},
     "output_type": "execute_result"
    }
   ],
   "source": [
    "X_train.iloc[:, 11:].mean()"
   ]
  }
 ],
 "metadata": {
  "kernelspec": {
   "display_name": "ML_01",
   "language": "python",
   "name": "python3"
  },
  "language_info": {
   "codemirror_mode": {
    "name": "ipython",
    "version": 3
   },
   "file_extension": ".py",
   "mimetype": "text/x-python",
   "name": "python",
   "nbconvert_exporter": "python",
   "pygments_lexer": "ipython3",
   "version": "3.11.5"
  },
  "orig_nbformat": 4
 },
 "nbformat": 4,
 "nbformat_minor": 2
}
